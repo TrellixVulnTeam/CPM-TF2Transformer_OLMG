{
 "metadata": {
  "language_info": {
   "codemirror_mode": {
    "name": "ipython",
    "version": 3
   },
   "file_extension": ".py",
   "mimetype": "text/x-python",
   "name": "python",
   "nbconvert_exporter": "python",
   "pygments_lexer": "ipython3",
   "version": 3
  },
  "orig_nbformat": 2
 },
 "nbformat": 4,
 "nbformat_minor": 2,
 "cells": [
  {
   "cell_type": "code",
   "execution_count": null,
   "metadata": {},
   "outputs": [],
   "source": [
    "# colab运行前需要把运行类型修改成GPU类型\n",
    "!pip install transformers jieba\n",
    "!pip install sentencepiece"
   ]
  },
  {
   "cell_type": "code",
   "execution_count": null,
   "metadata": {},
   "outputs": [],
   "source": [
    "from transformers import XLNetTokenizer, TFGPT2LMHeadModel\n",
    "\n",
    "# add spicel process \n",
    "class XLNetTokenizer(XLNetTokenizer):\n",
    "    translator = str.maketrans(\" \\n\", \"\\u2582\\u2583\")\n",
    "\n",
    "    def _tokenize(self, text, *args, **kwargs):\n",
    "        text = [x.translate(self.translator) for x in jieba.cut(text, cut_all=False)]\n",
    "        text = \" \".join(text)\n",
    "        return super()._tokenize(text, *args, **kwargs)\n",
    "\n",
    "    def _decode(self, *args, **kwargs):\n",
    "        text = super()._decode(*args, **kwargs)\n",
    "        text = text.replace(' ', '').replace('\\u2582', ' ').replace('\\u2583', '\\n')\n",
    "        return text\n",
    "\n",
    "\n",
    "tokenizer = XLNetTokenizer.from_pretrained('mymusise/CPM-GPT2-FP16')\n",
    "model = TFGPT2LMHeadModel.from_pretrained(\"mymusise/CPM-GPT2-FP16\")"
   ]
  },
  {
   "cell_type": "code",
   "execution_count": null,
   "metadata": {},
   "outputs": [],
   "source": [
    "from transformers import TextGenerationPipeline\n",
    "import jieba\n",
    "\n",
    "text_generater = TextGenerationPipeline(model, tokenizer)\n",
    "\n",
    "texts = [\n",
    "    '今天天气不错',\n",
    "    '天下武功, 唯快不',\n",
    "    \"\"\"\n",
    "    我们在火星上发现了大量的神奇物种。有神奇的海星兽，身上是粉色的，有5条腿；有胆小的猫猫兽，橘色，有4条腿；有令人恐惧的蜈蚣兽，全身漆黑，36条腿；有纯洁的天使兽，全身洁白无瑕，有3条腿；有贪吃的汪汪兽，银色的毛发，有5条腿；有蛋蛋兽，紫色，8条腿。\n",
    "\n",
    "    请根据上文，列出一个表格，包含物种名、颜色、腿数量。\n",
    "    |物种名|颜色|腿数量|\n",
    "    |亚古兽|金黄|2|\n",
    "    |海星兽|粉色|5|\n",
    "    |猫猫兽|橘色|4|\n",
    "    |蜈蚣兽|漆黑|36|\n",
    "    \"\"\"\n",
    "]\n",
    "\n",
    "for text in texts:\n",
    "    token_len = len(tokenizer._tokenize(text))\n",
    "    print(text_generater(text, max_length=token_len + 15, top_k=1, use_cache=True, prefix='')[0]['generated_text'])\n",
    "    print(text_generater(text, max_length=token_len + 15, do_sample=True, top_k=5)[0]['generated_text'])"
   ]
  }
 ]
}